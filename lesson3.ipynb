{
 "cells": [
  {
   "cell_type": "code",
   "execution_count": 31,
   "metadata": {},
   "outputs": [],
   "source": [
    "test0 = [6,3,8,2,7,1,32,5]"
   ]
  },
  {
   "cell_type": "code",
   "execution_count": 18,
   "metadata": {},
   "outputs": [],
   "source": [
    "def bubble_sort(nums):\n",
    "    # Create a copy of the list, to avoid changing it\n",
    "    nums = list(nums)\n",
    "    \n",
    "    # 4. Repeat the process n-1 times\n",
    "    for _ in range(len(nums) - 1):\n",
    "        \n",
    "        # 1. Iterate over the array (except last element)\n",
    "        for i in range(len(nums) - 1):\n",
    "            \n",
    "            # 2. Compare the number with  \n",
    "            if nums[i] > nums[i+1]:\n",
    "                \n",
    "                # 3. Swap the two elements\n",
    "                nums[i], nums[i+1] = nums[i+1], nums[i]\n",
    "    \n",
    "    # Return the sorted list\n",
    "    return nums"
   ]
  },
  {
   "cell_type": "code",
   "execution_count": 22,
   "metadata": {},
   "outputs": [
    {
     "data": {
      "text/plain": [
       "[1, 2, 2, 3, 6, 7, 8, 32]"
      ]
     },
     "execution_count": 22,
     "metadata": {},
     "output_type": "execute_result"
    }
   ],
   "source": [
    "bubble_sort(test0)"
   ]
  },
  {
   "cell_type": "code",
   "execution_count": 20,
   "metadata": {},
   "outputs": [],
   "source": [
    "def insertion_sort(nums):\n",
    "    nums = list(nums)\n",
    "    for i in range(len(nums)):\n",
    "        cur = nums.pop(i)\n",
    "        j = i-1\n",
    "        while j >=0 and nums[j] > cur:\n",
    "            j -= 1\n",
    "        nums.insert(j+1, cur)\n",
    "    return nums            "
   ]
  },
  {
   "cell_type": "code",
   "execution_count": 23,
   "metadata": {},
   "outputs": [
    {
     "data": {
      "text/plain": [
       "[1, 2, 2, 3, 6, 7, 8, 32]"
      ]
     },
     "execution_count": 23,
     "metadata": {},
     "output_type": "execute_result"
    }
   ],
   "source": [
    "insertion_sort(test0)\n"
   ]
  },
  {
   "cell_type": "code",
   "execution_count": 24,
   "metadata": {},
   "outputs": [],
   "source": [
    "def merge(nums1, nums2):    \n",
    "    # List to store the results \n",
    "    merged = []\n",
    "    \n",
    "    # Indices for iteration\n",
    "    i, j = 0, 0\n",
    "    \n",
    "    # Loop over the two lists\n",
    "    while i < len(nums1) and j < len(nums2):        \n",
    "        \n",
    "        # Include the smaller element in the result and move to next element\n",
    "        if nums1[i] <= nums2[j]:\n",
    "            merged.append(nums1[i])\n",
    "            i += 1 \n",
    "        else:\n",
    "            merged.append(nums2[j])\n",
    "            j += 1\n",
    "    \n",
    "    # Get the remaining parts\n",
    "    nums1_tail = nums1[i:]\n",
    "    nums2_tail = nums2[j:]\n",
    "    \n",
    "    # Return the final merged array\n",
    "    return merged + nums1_tail + nums2_tail\n",
    "    \n",
    "def merge_sort(nums):\n",
    "    # Terminating condition (list of 0 or 1 elements)\n",
    "    if len(nums) <= 1:\n",
    "        return nums\n",
    "    \n",
    "    # Get the midpoint\n",
    "    mid = len(nums) // 2\n",
    "    \n",
    "    # Split the list into two halves\n",
    "    left = nums[:mid]\n",
    "    right = nums[mid:]\n",
    "    \n",
    "    # Solve the problem for each half recursively\n",
    "    left_sorted, right_sorted = merge_sort(left), merge_sort(right)\n",
    "    \n",
    "    # Combine the results of the two halves\n",
    "    sorted_nums =  merge(left_sorted, right_sorted)\n",
    "    \n",
    "    return sorted_nums"
   ]
  },
  {
   "cell_type": "code",
   "execution_count": 25,
   "metadata": {},
   "outputs": [
    {
     "data": {
      "text/plain": [
       "[1, 2, 2, 3, 6, 7, 8, 32]"
      ]
     },
     "execution_count": 25,
     "metadata": {},
     "output_type": "execute_result"
    }
   ],
   "source": [
    "merge_sort(test0)"
   ]
  },
  {
   "cell_type": "code",
   "execution_count": 39,
   "metadata": {},
   "outputs": [],
   "source": [
    "def partition(nums, start=0, end=None):\n",
    "    # print('partition', nums, start, end)\n",
    "    if end is None:\n",
    "        end = len(nums) - 1\n",
    "    \n",
    "    # Initialize right and left pointers\n",
    "    l, r = start, end-1\n",
    "    \n",
    "    # Iterate while they're apart\n",
    "    while r > l:\n",
    "        # print('  ', nums, l, r)\n",
    "        # Increment left pointer if number is less or equal to pivot\n",
    "        if nums[l] <= nums[end]:\n",
    "            l += 1\n",
    "        \n",
    "        # Decrement right pointer if number is greater than pivot\n",
    "        elif nums[r] > nums[end]:\n",
    "            r -= 1\n",
    "        \n",
    "        # Two out-of-place elements found, swap them\n",
    "        else:\n",
    "            nums[l], nums[r] = nums[r], nums[l]\n",
    "    # print('  ', nums, l, r)\n",
    "    # Place the pivot between the two parts\n",
    "    if nums[l] > nums[end]:\n",
    "        nums[l], nums[end] = nums[end], nums[l]\n",
    "        return l\n",
    "    else:\n",
    "        return end\n",
    "        \n",
    "def quicksort(nums, start=0, end=None):\n",
    "    # print('quicksort', nums, start, end)\n",
    "    if end is None:\n",
    "        nums = list(nums)\n",
    "        end = len(nums) - 1\n",
    "    \n",
    "    if start < end:\n",
    "        pivot = partition(nums, start, end)\n",
    "        quicksort(nums, start, pivot-1)\n",
    "        quicksort(nums, pivot+1, end)\n",
    "\n",
    "    return nums"
   ]
  },
  {
   "cell_type": "code",
   "execution_count": 40,
   "metadata": {},
   "outputs": [
    {
     "name": "stdout",
     "output_type": "stream",
     "text": [
      "7\n"
     ]
    }
   ],
   "source": [
    "p = partition(test0, 0, None)\n",
    "print(p)\n",
    "# quicksort(test0)"
   ]
  },
  {
   "cell_type": "code",
   "execution_count": 79,
   "metadata": {},
   "outputs": [],
   "source": [
    "def polyMult(num1, num2):\n",
    "    if len(num1) <= 0 or len(num2) <= 0:\n",
    "        print(\"noop\")\n",
    "    else:\n",
    "        answer = [0 for i in range(len(num1)+len(num2)-1)]\n",
    "        for i in range(len(num1)):\n",
    "            for j in range(len(num2)):\n",
    "                answer[i+j] += num1[i]*num2[j]\n",
    "        return answer"
   ]
  },
  {
   "cell_type": "code",
   "execution_count": 78,
   "metadata": {},
   "outputs": [
    {
     "data": {
      "text/plain": [
       "[5, 9, 16, 21, 18, 9]"
      ]
     },
     "execution_count": 78,
     "metadata": {},
     "output_type": "execute_result"
    }
   ],
   "source": [
    "num1 = [2,0,5,7]\n",
    "num2 = [3,4,2]\n",
    "result = polyMult(num1,num2)\n",
    "result"
   ]
  },
  {
   "cell_type": "code",
   "execution_count": 80,
   "metadata": {},
   "outputs": [],
   "source": [
    "def polyAdd(num1,num2):\n",
    "    maxL = max(len(num1),len(num2))\n",
    "    minL = min(len(num1),len(num2))\n",
    "    answer = [0 for i in range(maxL)]\n",
    "\n",
    "    if len(num1) == len(num2):\n",
    "        for i in range(maxL):\n",
    "            answer[i] = num1[i]+num2[i]\n",
    "    elif len(num1) > len(num2):\n",
    "        for i in range(minL):\n",
    "            answer[i] = num1[i]+num2[i]\n",
    "        temp = maxL-minL\n",
    "        for i in range(0,temp):\n",
    "            answer[i+minL] = num1[i+minL]\n",
    "    else:\n",
    "        for i in range(minL):\n",
    "            answer[i] = num1[i]+num2[i]\n",
    "        temp = maxL-minL\n",
    "        for i in range(0,temp):\n",
    "            answer[i+minL] = num2[i+minL]        \n",
    "    return answer"
   ]
  },
  {
   "cell_type": "code",
   "execution_count": 83,
   "metadata": {},
   "outputs": [
    {
     "data": {
      "text/plain": [
       "[5, 4, 7, 8, 6]"
      ]
     },
     "execution_count": 83,
     "metadata": {},
     "output_type": "execute_result"
    }
   ],
   "source": [
    "num1 = [2,0,5,7,6]\n",
    "num2 = [3,4,2,1]\n",
    "result = polyAdd(num1,num2)\n",
    "result"
   ]
  },
  {
   "cell_type": "code",
   "execution_count": 87,
   "metadata": {},
   "outputs": [],
   "source": [
    "def polyMin(num1,num2):\n",
    "    maxL = max(len(num1),len(num2))\n",
    "    minL = min(len(num1),len(num2))\n",
    "    answer = [0 for i in range(maxL)]\n",
    "\n",
    "    if len(num1) == len(num2):\n",
    "        for i in range(maxL):\n",
    "            answer[i] = num1[i]-num2[i]\n",
    "    elif len(num1) > len(num2):\n",
    "        for i in range(minL):\n",
    "            answer[i] = num1[i]-num2[i]\n",
    "        temp = maxL-minL\n",
    "        for i in range(0,temp):\n",
    "            answer[i+minL] = num1[i+minL]\n",
    "    else:\n",
    "        for i in range(minL):\n",
    "            answer[i] = num1[i]-num2[i]\n",
    "        temp = maxL-minL\n",
    "        for i in range(0,temp):\n",
    "            answer[i+minL] = -num2[i+minL]        \n",
    "    return answer"
   ]
  },
  {
   "cell_type": "code",
   "execution_count": 88,
   "metadata": {},
   "outputs": [
    {
     "data": {
      "text/plain": [
       "[-1, -4, 3, 6, 0, -4]"
      ]
     },
     "execution_count": 88,
     "metadata": {},
     "output_type": "execute_result"
    }
   ],
   "source": [
    "num1 = [2,0,5,7,6]\n",
    "num2 = [3,4,2,1,6,4]\n",
    "result = polyMin(num1,num2)\n",
    "result"
   ]
  },
  {
   "cell_type": "code",
   "execution_count": null,
   "metadata": {},
   "outputs": [],
   "source": []
  }
 ],
 "metadata": {
  "kernelspec": {
   "display_name": "base",
   "language": "python",
   "name": "python3"
  },
  "language_info": {
   "codemirror_mode": {
    "name": "ipython",
    "version": 3
   },
   "file_extension": ".py",
   "mimetype": "text/x-python",
   "name": "python",
   "nbconvert_exporter": "python",
   "pygments_lexer": "ipython3",
   "version": "3.9.13"
  },
  "orig_nbformat": 4,
  "vscode": {
   "interpreter": {
    "hash": "32d4c7f056d40edca78517880ac5bbfca31a705d3869064ec17314829bc77388"
   }
  }
 },
 "nbformat": 4,
 "nbformat_minor": 2
}
